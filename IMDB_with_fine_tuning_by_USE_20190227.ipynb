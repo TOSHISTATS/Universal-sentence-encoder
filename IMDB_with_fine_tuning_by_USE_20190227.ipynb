{
  "nbformat": 4,
  "nbformat_minor": 0,
  "metadata": {
    "colab": {
      "name": "IMDB with fine-tuning by USE 20190227.ipynb",
      "version": "0.3.2",
      "provenance": []
    },
    "kernelspec": {
      "name": "python3",
      "display_name": "Python 3"
    },
    "accelerator": "GPU"
  },
  "cells": [
    {
      "metadata": {
        "id": "-LOOSibGrXR_",
        "colab_type": "text"
      },
      "cell_type": "markdown",
      "source": [
        "# Movie review classification by unversal sentence encoder with 200 samples"
      ]
    },
    {
      "metadata": {
        "id": "h_EniEMLoh65",
        "colab_type": "text"
      },
      "cell_type": "markdown",
      "source": [
        "## 1.Import library"
      ]
    },
    {
      "metadata": {
        "id": "ifFCFn_K93bL",
        "colab_type": "code",
        "outputId": "3857215f-c53d-4212-cb4d-8c5f2189e89a",
        "colab": {
          "base_uri": "https://localhost:8080/",
          "height": 50
        }
      },
      "cell_type": "code",
      "source": [
        "import tensorflow as tf\n",
        "import tensorflow_hub as hub\n",
        "import matplotlib.pyplot as plt\n",
        "import numpy as np\n",
        "import os\n",
        "import pandas as pd\n",
        "import re\n",
        "import time\n",
        "import seaborn as sns\n",
        "import keras\n",
        "import keras.layers as layers\n",
        "from keras.models import Model\n",
        "from keras.models import Sequential\n",
        "from keras.layers import Flatten, Dense\n",
        "from keras.optimizers import RMSprop,Adam\n",
        "from keras import backend as K\n",
        "np.random.seed(10)\n",
        "\n",
        "keras.__version__\n",
        "tf.__version__"
      ],
      "execution_count": 1,
      "outputs": [
        {
          "output_type": "stream",
          "text": [
            "Using TensorFlow backend.\n"
          ],
          "name": "stderr"
        },
        {
          "output_type": "execute_result",
          "data": {
            "text/plain": [
              "'1.13.0-rc2'"
            ]
          },
          "metadata": {
            "tags": []
          },
          "execution_count": 1
        }
      ]
    },
    {
      "metadata": {
        "id": "feCgQ0L893bb",
        "colab_type": "text"
      },
      "cell_type": "markdown",
      "source": [
        "## 2. Download the IMDB data as raw text"
      ]
    },
    {
      "metadata": {
        "id": "XqebCXgf-fIl",
        "colab_type": "code",
        "colab": {}
      },
      "cell_type": "code",
      "source": [
        "from tensorflow import keras\n",
        "\n",
        "# Load all files from a directory in a DataFrame.\n",
        "def load_directory_data(directory):\n",
        "  data = {}\n",
        "  data[\"sentence\"] = []\n",
        "  data[\"sentiment\"] = []\n",
        "  for file_path in os.listdir(directory):\n",
        "    with tf.gfile.GFile(os.path.join(directory, file_path), \"r\") as f:\n",
        "      data[\"sentence\"].append(f.read())\n",
        "      data[\"sentiment\"].append(re.match(\"\\d+_(\\d+)\\.txt\", file_path).group(1))\n",
        "  return pd.DataFrame.from_dict(data)\n",
        "\n",
        "# Merge positive and negative examples, add a polarity column and shuffle.\n",
        "def load_dataset(directory):\n",
        "  pos_df = load_directory_data(os.path.join(directory, \"pos\"))\n",
        "  neg_df = load_directory_data(os.path.join(directory, \"neg\"))\n",
        "  pos_df[\"polarity\"] = 1\n",
        "  neg_df[\"polarity\"] = 0\n",
        "  return pd.concat([pos_df, neg_df]).sample(frac=1).reset_index(drop=True)\n",
        "\n",
        "# Download and process the dataset files.\n",
        "def download_and_load_datasets(force_download=False):\n",
        "  dataset = tf.keras.utils.get_file(\n",
        "      fname=\"aclImdb.tar.gz\", \n",
        "      origin=\"http://ai.stanford.edu/~amaas/data/sentiment/aclImdb_v1.tar.gz\", \n",
        "      extract=True)\n",
        "  \n",
        "  train_df = load_dataset(os.path.join(os.path.dirname(dataset), \n",
        "                                       \"aclImdb\", \"train\"))\n",
        "  test_df = load_dataset(os.path.join(os.path.dirname(dataset), \n",
        "                                      \"aclImdb\", \"test\"))\n",
        "  \n",
        "  return train_df, test_df\n"
      ],
      "execution_count": 0,
      "outputs": []
    },
    {
      "metadata": {
        "id": "bW_eJ4PqHS4e",
        "colab_type": "code",
        "colab": {}
      },
      "cell_type": "code",
      "source": [
        "train, test = download_and_load_datasets()"
      ],
      "execution_count": 0,
      "outputs": []
    },
    {
      "metadata": {
        "id": "M9JwrDOwpg_x",
        "colab_type": "text"
      },
      "cell_type": "markdown",
      "source": [
        "2000 samples are taken"
      ]
    },
    {
      "metadata": {
        "id": "NXwixSXg_AEj",
        "colab_type": "code",
        "outputId": "0cc4b07d-16f6-4375-85e7-e9eb4dba6268",
        "colab": {
          "base_uri": "https://localhost:8080/",
          "height": 195
        }
      },
      "cell_type": "code",
      "source": [
        "n=2000 \n",
        "x = train.sample(n)\n",
        "x.head()"
      ],
      "execution_count": 4,
      "outputs": [
        {
          "output_type": "execute_result",
          "data": {
            "text/html": [
              "<div>\n",
              "<style scoped>\n",
              "    .dataframe tbody tr th:only-of-type {\n",
              "        vertical-align: middle;\n",
              "    }\n",
              "\n",
              "    .dataframe tbody tr th {\n",
              "        vertical-align: top;\n",
              "    }\n",
              "\n",
              "    .dataframe thead th {\n",
              "        text-align: right;\n",
              "    }\n",
              "</style>\n",
              "<table border=\"1\" class=\"dataframe\">\n",
              "  <thead>\n",
              "    <tr style=\"text-align: right;\">\n",
              "      <th></th>\n",
              "      <th>sentence</th>\n",
              "      <th>sentiment</th>\n",
              "      <th>polarity</th>\n",
              "    </tr>\n",
              "  </thead>\n",
              "  <tbody>\n",
              "    <tr>\n",
              "      <th>16177</th>\n",
              "      <td>I saw this at an arty cinema that was also sho...</td>\n",
              "      <td>1</td>\n",
              "      <td>0</td>\n",
              "    </tr>\n",
              "    <tr>\n",
              "      <th>10457</th>\n",
              "      <td>Im proud to say I've seen all three Fast and F...</td>\n",
              "      <td>2</td>\n",
              "      <td>0</td>\n",
              "    </tr>\n",
              "    <tr>\n",
              "      <th>16677</th>\n",
              "      <td>Fassbinder's most lavish production sacrifices...</td>\n",
              "      <td>8</td>\n",
              "      <td>1</td>\n",
              "    </tr>\n",
              "    <tr>\n",
              "      <th>21963</th>\n",
              "      <td>A lot of promise and nothing more. An all-star...</td>\n",
              "      <td>2</td>\n",
              "      <td>0</td>\n",
              "    </tr>\n",
              "    <tr>\n",
              "      <th>7079</th>\n",
              "      <td>This is just one more of those hideous films t...</td>\n",
              "      <td>3</td>\n",
              "      <td>0</td>\n",
              "    </tr>\n",
              "  </tbody>\n",
              "</table>\n",
              "</div>"
            ],
            "text/plain": [
              "                                                sentence sentiment  polarity\n",
              "16177  I saw this at an arty cinema that was also sho...         1         0\n",
              "10457  Im proud to say I've seen all three Fast and F...         2         0\n",
              "16677  Fassbinder's most lavish production sacrifices...         8         1\n",
              "21963  A lot of promise and nothing more. An all-star...         2         0\n",
              "7079   This is just one more of those hideous films t...         3         0"
            ]
          },
          "metadata": {
            "tags": []
          },
          "execution_count": 4
        }
      ]
    },
    {
      "metadata": {
        "id": "y3AsFFbkpJr7",
        "colab_type": "text"
      },
      "cell_type": "markdown",
      "source": [
        "*Column* of \"sentence\" is used as features and \"polarity\" is used as label "
      ]
    },
    {
      "metadata": {
        "id": "G3M3tVX0BK7t",
        "colab_type": "code",
        "outputId": "abcafe3f-57ae-4ecb-fd5a-c4ac83a9c1f7",
        "colab": {
          "base_uri": "https://localhost:8080/",
          "height": 121
        }
      },
      "cell_type": "code",
      "source": [
        "X=x.values[:,0:1]\n",
        "print(np.shape(X))\n",
        "X=X.reshape(n,)\n",
        "print(np.shape(X))\n",
        "X=X.tolist()\n",
        "print(type(X))\n",
        "print(len(X))\n",
        "\n",
        "print(X[0:3])"
      ],
      "execution_count": 5,
      "outputs": [
        {
          "output_type": "stream",
          "text": [
            "(2000, 1)\n",
            "(2000,)\n",
            "<class 'list'>\n",
            "2000\n",
            "['I saw this at an arty cinema that was also showing \"Last Days\" and some Charlie Chaplin films. Based on the quality of the other features, I decided to give \"Immortel\" a chance. I nearly walked out of this movie, and I LIKE science-fiction! The story is set in a futuristic New York city, filled with Blade Runner-style sky advertisements and some similar debates about cloning/synthetic humans. Unfortunately, the screenplay was not condensed enough for an hour-and-forty-five-minute movie. Three groups exist in this world: humans, artificial humans, and Egyptian gods. The artificial humans seem to have the upper hand and control the politics of the city. The humans are slaves and are used for eugenics and organ donation. The Egyptian gods have a floating pyramid (modeled on the Great Pyramid of Khufu, and complete with a deteriorated exterior, leaving a smooth \"cap\" on the pyramid. Wouldn\\'t a floating futuristic pyramid be in perfect condition?). The pyramid rests above the city and nobody on the ground understands what it is or why it\\'s there. I won\\'t bore you with the so-called plot, but there is lots of unnecessary gore and many gross-out scenes. The film, as I said, looks to have been influenced by Blade Runner, and perhaps also by The Fifth Element and The Matrix. At the end of the film credits were listed thank-yous to the United Kingdom, France, and Italy. The film is FRENCH, but uses British actors who don\\'t speak French. Hence, it is obvious that their French dialog has been dubbed. This is a distraction, and I also thought that switching back and forth between real humans and animations quite distracting. It doesn\\'t help that the animations are poor--no better than a video game. Skip this one.', \"Im proud to say I've seen all three Fast and Furious films.Sure,the plots are kinda silly,and they might be a little cheesy,but I love them car chases,and all the beautiful cars,and the clandestine midnight races.And Ill gladly see a fourth one.<br /><br />Wanna know what the difference is between those three and Redline?Decent acting,somewhat thought out plot,even if they are potboilers,and last but not least,directors who have a clue.All three were made by very competent directors,all of them took the films in a different direction,equally exciting.Redline looks like the producer picked out a dozen women he slept with on the casting couch,and made them the extras,then picked up his leads from Hollywood's unemployment line.And the script.Yikes.Its Mystery Science Theatre 3000 bad.This is 70's made for TV movie bad.<br /><br />Yeah,the movie had a few cool cars,but you don't really get to see that many in action,and the action is directed so poorly you cant get excited by the chases,and if the cars aren't thrilling you,why go to a movie like this?<br /><br />Im in the audience with a bunch of teenagers,and I cant stop laughing out loud.Im getting dirty looks,but this was just a debacle.<br /><br />Rent the F&F movies.Go to Nascar Race.Go to a karting track and race yourself.Whatever you do,avoid Redline like bad cheese.\", \"Fassbinder's most lavish production sacrifices little of his talent for identifying and deconstructing a locus of suffering in long, mobile takes that somehow also act as social encapsulations; here, it's much more overt, since the story takes place in war-torn Germany at the end of WWII, and the central character is a woman (Hanna Schygulla as Maria) who capitalizes on vulnerabilities (both economic and gender-related) to catapult herself up the ladder of a prominent textile corp. that makes coveted goods like lederhosen available to indigent workers (as she once was). Married amidst allied air raids, Maria and her new husband Herrmann are allowed a brief honeymoon before he's shipped out to the Russian front. In his absence, her despair is great: she spends most days at the train station, waiting for him to return. When he is reported dead, she abruptly stops grieving and takes a job as a barmaid/prostitute at a brothel catering to American GI's.<br /><br />When he returns, things get plenty messy, as circumstances (and his sense of noble self-sacrifice) conspire to keep them apart. The message is Fassbinder's M.O. writ large: 'Love is colder than death,' but not only is Maria contending with her own sanity and a husband largely incapable of loving her, but a country in deep flux with no discernible light at the end of the tunnel. Fassbinder is making some kind of statement on post-war Germany selling out to the highest bidder, but as with all his films, I tend to block those elements out and focus on the unbearable passions on display: Fassbinder's as evoked through his characters; his actors' as filtered through their real-life connections with Fassbinder. Taken together, his films can be either unbearable or indescribably mesmeric, often at once; this falls somewhere in-between, although definitely closer to the latter. While I didn't like it quite as much as The Bitter Tears of Petra von Kant or Katzelmacher, Maria Braun certainly has a greater scope and what's more, I could feel its passion and authentic detail to human emotions.\"]\n"
          ],
          "name": "stdout"
        }
      ]
    },
    {
      "metadata": {
        "id": "2q-o_ZruB0jh",
        "colab_type": "code",
        "outputId": "0566192d-d0a0-4096-ef91-50a7c012ffe7",
        "colab": {
          "base_uri": "https://localhost:8080/",
          "height": 84
        }
      },
      "cell_type": "code",
      "source": [
        "Y=x.values[:,2:3]\n",
        "print(np.shape(Y))\n",
        "Y=Y.reshape(n,)\n",
        "print(np.shape(Y))\n",
        "Y=Y.tolist()\n",
        "print(type(Y))\n",
        "print(Y[0:3])"
      ],
      "execution_count": 6,
      "outputs": [
        {
          "output_type": "stream",
          "text": [
            "(2000, 1)\n",
            "(2000,)\n",
            "<class 'list'>\n",
            "[0, 0, 1]\n"
          ],
          "name": "stdout"
        }
      ]
    },
    {
      "metadata": {
        "id": "ZQNsL9nq93bl",
        "colab_type": "text"
      },
      "cell_type": "markdown",
      "source": [
        "## 3. Universal Sentence Encoder is used to extract features from texts"
      ]
    },
    {
      "metadata": {
        "id": "fpDPQND093bm",
        "colab_type": "code",
        "colab": {}
      },
      "cell_type": "code",
      "source": [
        "module_url = \"https://tfhub.dev/google/universal-sentence-encoder-large/3\""
      ],
      "execution_count": 0,
      "outputs": []
    },
    {
      "metadata": {
        "id": "44In5u0b93bq",
        "colab_type": "code",
        "outputId": "da7f0d2e-7095-4997-80c1-5ec1758a915d",
        "colab": {
          "base_uri": "https://localhost:8080/",
          "height": 104
        }
      },
      "cell_type": "code",
      "source": [
        "# Import the Universal Sentence Encoder's TF Hub module\n",
        "embed = hub.Module(module_url)\n",
        "\n",
        "# Compute a representation for X\n",
        "messages = X\n",
        "\n",
        "# Reduce logging output.\n",
        "tf.logging.set_verbosity(tf.logging.ERROR)\n",
        "\n",
        "with tf.Session() as session:\n",
        "  session.run([tf.global_variables_initializer(), tf.tables_initializer()])\n",
        "  message_embeddings = session.run(embed(messages))\n",
        "\n",
        "  for i, message_embedding in enumerate(np.array(message_embeddings).tolist()):\n",
        "    \n",
        "    message_embedding_snippet = \", \".join(\n",
        "        (str(x) for x in message_embedding[:3]))\n",
        "   "
      ],
      "execution_count": 8,
      "outputs": [
        {
          "output_type": "stream",
          "text": [
            "INFO:tensorflow:Using /tmp/tfhub_modules to cache modules.\n",
            "WARNING:tensorflow:From /usr/local/lib/python3.6/dist-packages/tensorflow/python/ops/control_flow_ops.py:3632: colocate_with (from tensorflow.python.framework.ops) is deprecated and will be removed in a future version.\n",
            "Instructions for updating:\n",
            "Colocations handled automatically by placer.\n"
          ],
          "name": "stdout"
        }
      ]
    },
    {
      "metadata": {
        "id": "CNRJVtAR93bz",
        "colab_type": "code",
        "outputId": "91619ccd-9bda-4d62-8656-31e6814be975",
        "colab": {
          "base_uri": "https://localhost:8080/",
          "height": 50
        }
      },
      "cell_type": "code",
      "source": [
        "print(type(message_embeddings))\n",
        "print(np.shape(message_embeddings))"
      ],
      "execution_count": 9,
      "outputs": [
        {
          "output_type": "stream",
          "text": [
            "<class 'numpy.ndarray'>\n",
            "(2000, 512)\n"
          ],
          "name": "stdout"
        }
      ]
    },
    {
      "metadata": {
        "id": "ojr8aCwe93b9",
        "colab_type": "text"
      },
      "cell_type": "markdown",
      "source": [
        "## 4. Develop model for classification\n"
      ]
    },
    {
      "metadata": {
        "id": "aBp_OHWv93cA",
        "colab_type": "code",
        "outputId": "f7758843-899a-437d-a7c8-62e2332edb0e",
        "colab": {
          "base_uri": "https://localhost:8080/",
          "height": 202
        }
      },
      "cell_type": "code",
      "source": [
        "X=message_embeddings\n",
        "\n",
        "model = Sequential()\n",
        "model.add(Dense(16, input_dim=512, activation='relu'))\n",
        "model.add(Dense(1, activation='sigmoid'))\n",
        "model.summary()"
      ],
      "execution_count": 10,
      "outputs": [
        {
          "output_type": "stream",
          "text": [
            "_________________________________________________________________\n",
            "Layer (type)                 Output Shape              Param #   \n",
            "=================================================================\n",
            "dense_1 (Dense)              (None, 16)                8208      \n",
            "_________________________________________________________________\n",
            "dense_2 (Dense)              (None, 1)                 17        \n",
            "=================================================================\n",
            "Total params: 8,225\n",
            "Trainable params: 8,225\n",
            "Non-trainable params: 0\n",
            "_________________________________________________________________\n"
          ],
          "name": "stdout"
        }
      ]
    },
    {
      "metadata": {
        "id": "D3BbEeOE93cK",
        "colab_type": "text"
      },
      "cell_type": "markdown",
      "source": [
        "## 5. Train the model with 200 samples\n"
      ]
    },
    {
      "metadata": {
        "id": "F21OeI2l93cM",
        "colab_type": "code",
        "outputId": "f5f29197-50b5-4d8d-9629-956fb0cee992",
        "colab": {
          "base_uri": "https://localhost:8080/",
          "height": 1730
        }
      },
      "cell_type": "code",
      "source": [
        "t=time.time()\n",
        "\n",
        "model.compile(optimizer=Adam(lr=1e-3),\n",
        "              loss='binary_crossentropy',\n",
        "              metrics=['acc'])\n",
        "history = model.fit(X, Y,\n",
        "                    epochs=50,\n",
        "                    batch_size=32,\n",
        "                    validation_split=0.9)\n",
        "#model.save_weights('pre_trained_glove_model.h5')\n",
        "\n",
        "t2 = time.time()\n",
        "print(round(t2-t, 5), 'Seconds to predict')"
      ],
      "execution_count": 11,
      "outputs": [
        {
          "output_type": "stream",
          "text": [
            "Train on 199 samples, validate on 1801 samples\n",
            "Epoch 1/50\n",
            "199/199 [==============================] - 2s 10ms/step - loss: 0.6876 - acc: 0.5176 - val_loss: 0.6786 - val_acc: 0.6596\n",
            "Epoch 2/50\n",
            "199/199 [==============================] - 0s 535us/step - loss: 0.6697 - acc: 0.7337 - val_loss: 0.6679 - val_acc: 0.7368\n",
            "Epoch 3/50\n",
            "199/199 [==============================] - 0s 597us/step - loss: 0.6523 - acc: 0.7839 - val_loss: 0.6549 - val_acc: 0.7351\n",
            "Epoch 4/50\n",
            "199/199 [==============================] - 0s 542us/step - loss: 0.6360 - acc: 0.8241 - val_loss: 0.6405 - val_acc: 0.7662\n",
            "Epoch 5/50\n",
            "199/199 [==============================] - 0s 539us/step - loss: 0.6181 - acc: 0.8291 - val_loss: 0.6284 - val_acc: 0.7568\n",
            "Epoch 6/50\n",
            "199/199 [==============================] - 0s 525us/step - loss: 0.6006 - acc: 0.8492 - val_loss: 0.6167 - val_acc: 0.7590\n",
            "Epoch 7/50\n",
            "199/199 [==============================] - 0s 515us/step - loss: 0.5835 - acc: 0.8442 - val_loss: 0.6035 - val_acc: 0.7579\n",
            "Epoch 8/50\n",
            "199/199 [==============================] - 0s 529us/step - loss: 0.5666 - acc: 0.8442 - val_loss: 0.5894 - val_acc: 0.7651\n",
            "Epoch 9/50\n",
            "199/199 [==============================] - 0s 535us/step - loss: 0.5489 - acc: 0.8492 - val_loss: 0.5771 - val_acc: 0.7685\n",
            "Epoch 10/50\n",
            "199/199 [==============================] - 0s 535us/step - loss: 0.5322 - acc: 0.8492 - val_loss: 0.5640 - val_acc: 0.7707\n",
            "Epoch 11/50\n",
            "199/199 [==============================] - 0s 535us/step - loss: 0.5166 - acc: 0.8593 - val_loss: 0.5505 - val_acc: 0.7696\n",
            "Epoch 12/50\n",
            "199/199 [==============================] - 0s 554us/step - loss: 0.4997 - acc: 0.8543 - val_loss: 0.5404 - val_acc: 0.7718\n",
            "Epoch 13/50\n",
            "199/199 [==============================] - 0s 553us/step - loss: 0.4837 - acc: 0.8593 - val_loss: 0.5299 - val_acc: 0.7712\n",
            "Epoch 14/50\n",
            "199/199 [==============================] - 0s 583us/step - loss: 0.4695 - acc: 0.8593 - val_loss: 0.5218 - val_acc: 0.7718\n",
            "Epoch 15/50\n",
            "199/199 [==============================] - 0s 525us/step - loss: 0.4573 - acc: 0.8492 - val_loss: 0.5166 - val_acc: 0.7662\n",
            "Epoch 16/50\n",
            "199/199 [==============================] - 0s 522us/step - loss: 0.4469 - acc: 0.8442 - val_loss: 0.5068 - val_acc: 0.7718\n",
            "Epoch 17/50\n",
            "199/199 [==============================] - 0s 506us/step - loss: 0.4372 - acc: 0.8492 - val_loss: 0.4944 - val_acc: 0.7807\n",
            "Epoch 18/50\n",
            "199/199 [==============================] - 0s 570us/step - loss: 0.4228 - acc: 0.8693 - val_loss: 0.4899 - val_acc: 0.7785\n",
            "Epoch 19/50\n",
            "199/199 [==============================] - 0s 521us/step - loss: 0.4131 - acc: 0.8744 - val_loss: 0.4847 - val_acc: 0.7818\n",
            "Epoch 20/50\n",
            "199/199 [==============================] - 0s 523us/step - loss: 0.4030 - acc: 0.8794 - val_loss: 0.4783 - val_acc: 0.7851\n",
            "Epoch 21/50\n",
            "199/199 [==============================] - 0s 534us/step - loss: 0.3946 - acc: 0.8794 - val_loss: 0.4719 - val_acc: 0.7862\n",
            "Epoch 22/50\n",
            "199/199 [==============================] - 0s 596us/step - loss: 0.3858 - acc: 0.8844 - val_loss: 0.4679 - val_acc: 0.7868\n",
            "Epoch 23/50\n",
            "199/199 [==============================] - 0s 533us/step - loss: 0.3780 - acc: 0.8794 - val_loss: 0.4645 - val_acc: 0.7868\n",
            "Epoch 24/50\n",
            "199/199 [==============================] - 0s 522us/step - loss: 0.3701 - acc: 0.8794 - val_loss: 0.4600 - val_acc: 0.7885\n",
            "Epoch 25/50\n",
            "199/199 [==============================] - 0s 526us/step - loss: 0.3644 - acc: 0.8844 - val_loss: 0.4560 - val_acc: 0.7885\n",
            "Epoch 26/50\n",
            "199/199 [==============================] - 0s 521us/step - loss: 0.3556 - acc: 0.8844 - val_loss: 0.4546 - val_acc: 0.7896\n",
            "Epoch 27/50\n",
            "199/199 [==============================] - 0s 532us/step - loss: 0.3496 - acc: 0.8794 - val_loss: 0.4531 - val_acc: 0.7857\n",
            "Epoch 28/50\n",
            "199/199 [==============================] - 0s 538us/step - loss: 0.3438 - acc: 0.8844 - val_loss: 0.4502 - val_acc: 0.7896\n",
            "Epoch 29/50\n",
            "199/199 [==============================] - 0s 519us/step - loss: 0.3368 - acc: 0.8945 - val_loss: 0.4451 - val_acc: 0.7907\n",
            "Epoch 30/50\n",
            "199/199 [==============================] - 0s 518us/step - loss: 0.3320 - acc: 0.8794 - val_loss: 0.4416 - val_acc: 0.7962\n",
            "Epoch 31/50\n",
            "199/199 [==============================] - 0s 594us/step - loss: 0.3273 - acc: 0.8945 - val_loss: 0.4398 - val_acc: 0.7957\n",
            "Epoch 32/50\n",
            "199/199 [==============================] - 0s 539us/step - loss: 0.3204 - acc: 0.9045 - val_loss: 0.4379 - val_acc: 0.7962\n",
            "Epoch 33/50\n",
            "199/199 [==============================] - 0s 509us/step - loss: 0.3139 - acc: 0.9045 - val_loss: 0.4377 - val_acc: 0.7946\n",
            "Epoch 34/50\n",
            "199/199 [==============================] - 0s 530us/step - loss: 0.3089 - acc: 0.8945 - val_loss: 0.4374 - val_acc: 0.7951\n",
            "Epoch 35/50\n",
            "199/199 [==============================] - 0s 518us/step - loss: 0.3037 - acc: 0.8945 - val_loss: 0.4344 - val_acc: 0.7984\n",
            "Epoch 36/50\n",
            "199/199 [==============================] - 0s 535us/step - loss: 0.2989 - acc: 0.9095 - val_loss: 0.4329 - val_acc: 0.7990\n",
            "Epoch 37/50\n",
            "199/199 [==============================] - 0s 527us/step - loss: 0.2940 - acc: 0.9095 - val_loss: 0.4323 - val_acc: 0.7996\n",
            "Epoch 38/50\n",
            "199/199 [==============================] - 0s 535us/step - loss: 0.2895 - acc: 0.9095 - val_loss: 0.4314 - val_acc: 0.7996\n",
            "Epoch 39/50\n",
            "199/199 [==============================] - 0s 523us/step - loss: 0.2852 - acc: 0.9146 - val_loss: 0.4303 - val_acc: 0.7996\n",
            "Epoch 40/50\n",
            "199/199 [==============================] - 0s 515us/step - loss: 0.2808 - acc: 0.9146 - val_loss: 0.4292 - val_acc: 0.8012\n",
            "Epoch 41/50\n",
            "199/199 [==============================] - 0s 593us/step - loss: 0.2772 - acc: 0.9146 - val_loss: 0.4284 - val_acc: 0.8001\n",
            "Epoch 42/50\n",
            "199/199 [==============================] - 0s 522us/step - loss: 0.2715 - acc: 0.9146 - val_loss: 0.4295 - val_acc: 0.7979\n",
            "Epoch 43/50\n",
            "199/199 [==============================] - 0s 531us/step - loss: 0.2684 - acc: 0.9146 - val_loss: 0.4303 - val_acc: 0.7907\n",
            "Epoch 44/50\n",
            "199/199 [==============================] - 0s 521us/step - loss: 0.2657 - acc: 0.9095 - val_loss: 0.4295 - val_acc: 0.7918\n",
            "Epoch 45/50\n",
            "199/199 [==============================] - 0s 533us/step - loss: 0.2607 - acc: 0.9196 - val_loss: 0.4259 - val_acc: 0.8040\n",
            "Epoch 46/50\n",
            "199/199 [==============================] - 0s 532us/step - loss: 0.2565 - acc: 0.9196 - val_loss: 0.4252 - val_acc: 0.8034\n",
            "Epoch 47/50\n",
            "199/199 [==============================] - 0s 514us/step - loss: 0.2527 - acc: 0.9196 - val_loss: 0.4248 - val_acc: 0.8046\n",
            "Epoch 48/50\n",
            "199/199 [==============================] - 0s 524us/step - loss: 0.2490 - acc: 0.9196 - val_loss: 0.4247 - val_acc: 0.8023\n",
            "Epoch 49/50\n",
            "199/199 [==============================] - 0s 535us/step - loss: 0.2456 - acc: 0.9196 - val_loss: 0.4249 - val_acc: 0.8023\n",
            "Epoch 50/50\n",
            "199/199 [==============================] - 0s 551us/step - loss: 0.2423 - acc: 0.9196 - val_loss: 0.4256 - val_acc: 0.8018\n",
            "7.67125 Seconds to predict\n"
          ],
          "name": "stdout"
        }
      ]
    },
    {
      "metadata": {
        "id": "exJhzCEazDVd",
        "colab_type": "code",
        "outputId": "2efec150-7755-42a2-cbb3-3a83a074e9d2",
        "colab": {
          "base_uri": "https://localhost:8080/",
          "height": 349
        }
      },
      "cell_type": "code",
      "source": [
        "import matplotlib.pyplot as plt\n",
        "\n",
        "acc = history.history['acc']\n",
        "val_acc = history.history['val_acc']\n",
        "loss = history.history['loss']\n",
        "val_loss = history.history['val_loss']\n",
        "\n",
        "epochs = range(len(acc))\n",
        "\n",
        "plt.figure(figsize=(15,5))\n",
        "\n",
        "plt.subplot(1, 2, 1)\n",
        "plt.plot(epochs, acc, label='Training acc')\n",
        "plt.plot(epochs, val_acc, label='Validation acc')\n",
        "plt.title('Training and validation accuracy')\n",
        "plt.xlabel('epoch')\n",
        "plt.ylabel('accuracy')\n",
        "plt.legend()\n",
        "            \n",
        "plt.subplot(1, 2, 2)\n",
        "plt.plot(epochs, loss, label='Training loss')\n",
        "plt.plot(epochs, val_loss, label='Validation loss')\n",
        "plt.title('Training and validation loss')\n",
        "plt.xlabel('epoch')\n",
        "plt.ylabel('loss')\n",
        "plt.legend()\n",
        "\n",
        "plt.show()"
      ],
      "execution_count": 12,
      "outputs": [
        {
          "output_type": "display_data",
          "data": {
            "image/png": "[encoded data removed]",
            "text/plain": [
              "<Figure size 1080x360 with 2 Axes>"
            ]
          },
          "metadata": {
            "tags": []
          }
        }
      ]
    }
  ]
}